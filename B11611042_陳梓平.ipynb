{
  "nbformat": 4,
  "nbformat_minor": 0,
  "metadata": {
    "colab": {
      "provenance": [],
      "gpuType": "T4"
    },
    "kernelspec": {
      "name": "python3",
      "display_name": "Python 3"
    },
    "language_info": {
      "name": "python"
    },
    "accelerator": "GPU"
  },
  "cells": [
    {
      "cell_type": "code",
      "source": [
        "!pip install ultralytics\n"
      ],
      "metadata": {
        "colab": {
          "base_uri": "https://localhost:8080/"
        },
        "id": "Rkl7TxqkWCHV",
        "outputId": "48b89629-fe1a-4dcd-8456-2b3ee3f84fd3"
      },
      "execution_count": null,
      "outputs": [
        {
          "output_type": "stream",
          "name": "stdout",
          "text": [
            "Collecting ultralytics\n",
            "  Downloading ultralytics-8.2.84-py3-none-any.whl.metadata (41 kB)\n",
            "\u001b[?25l     \u001b[90m━━━━━━━━━━━━━━━━━━━━━━━━━━━━━━━━━━━━━━━━\u001b[0m \u001b[32m0.0/41.8 kB\u001b[0m \u001b[31m?\u001b[0m eta \u001b[36m-:--:--\u001b[0m\r\u001b[2K     \u001b[90m━━━━━━━━━━━━━━━━━━━━━━━━━━━━━━━━━━━━━━━━\u001b[0m \u001b[32m41.8/41.8 kB\u001b[0m \u001b[31m1.7 MB/s\u001b[0m eta \u001b[36m0:00:00\u001b[0m\n",
            "\u001b[?25hRequirement already satisfied: numpy<2.0.0,>=1.23.0 in /usr/local/lib/python3.10/dist-packages (from ultralytics) (1.26.4)\n",
            "Requirement already satisfied: matplotlib>=3.3.0 in /usr/local/lib/python3.10/dist-packages (from ultralytics) (3.7.1)\n",
            "Requirement already satisfied: opencv-python>=4.6.0 in /usr/local/lib/python3.10/dist-packages (from ultralytics) (4.10.0.84)\n",
            "Requirement already satisfied: pillow>=7.1.2 in /usr/local/lib/python3.10/dist-packages (from ultralytics) (9.4.0)\n",
            "Requirement already satisfied: pyyaml>=5.3.1 in /usr/local/lib/python3.10/dist-packages (from ultralytics) (6.0.2)\n",
            "Requirement already satisfied: requests>=2.23.0 in /usr/local/lib/python3.10/dist-packages (from ultralytics) (2.32.3)\n",
            "Requirement already satisfied: scipy>=1.4.1 in /usr/local/lib/python3.10/dist-packages (from ultralytics) (1.13.1)\n",
            "Requirement already satisfied: torch>=1.8.0 in /usr/local/lib/python3.10/dist-packages (from ultralytics) (2.4.0+cu121)\n",
            "Requirement already satisfied: torchvision>=0.9.0 in /usr/local/lib/python3.10/dist-packages (from ultralytics) (0.19.0+cu121)\n",
            "Requirement already satisfied: tqdm>=4.64.0 in /usr/local/lib/python3.10/dist-packages (from ultralytics) (4.66.5)\n",
            "Requirement already satisfied: psutil in /usr/local/lib/python3.10/dist-packages (from ultralytics) (5.9.5)\n",
            "Requirement already satisfied: py-cpuinfo in /usr/local/lib/python3.10/dist-packages (from ultralytics) (9.0.0)\n",
            "Requirement already satisfied: pandas>=1.1.4 in /usr/local/lib/python3.10/dist-packages (from ultralytics) (2.1.4)\n",
            "Requirement already satisfied: seaborn>=0.11.0 in /usr/local/lib/python3.10/dist-packages (from ultralytics) (0.13.1)\n",
            "Collecting ultralytics-thop>=2.0.0 (from ultralytics)\n",
            "  Downloading ultralytics_thop-2.0.5-py3-none-any.whl.metadata (8.9 kB)\n",
            "Requirement already satisfied: contourpy>=1.0.1 in /usr/local/lib/python3.10/dist-packages (from matplotlib>=3.3.0->ultralytics) (1.2.1)\n",
            "Requirement already satisfied: cycler>=0.10 in /usr/local/lib/python3.10/dist-packages (from matplotlib>=3.3.0->ultralytics) (0.12.1)\n",
            "Requirement already satisfied: fonttools>=4.22.0 in /usr/local/lib/python3.10/dist-packages (from matplotlib>=3.3.0->ultralytics) (4.53.1)\n",
            "Requirement already satisfied: kiwisolver>=1.0.1 in /usr/local/lib/python3.10/dist-packages (from matplotlib>=3.3.0->ultralytics) (1.4.5)\n",
            "Requirement already satisfied: packaging>=20.0 in /usr/local/lib/python3.10/dist-packages (from matplotlib>=3.3.0->ultralytics) (24.1)\n",
            "Requirement already satisfied: pyparsing>=2.3.1 in /usr/local/lib/python3.10/dist-packages (from matplotlib>=3.3.0->ultralytics) (3.1.4)\n",
            "Requirement already satisfied: python-dateutil>=2.7 in /usr/local/lib/python3.10/dist-packages (from matplotlib>=3.3.0->ultralytics) (2.8.2)\n",
            "Requirement already satisfied: pytz>=2020.1 in /usr/local/lib/python3.10/dist-packages (from pandas>=1.1.4->ultralytics) (2024.1)\n",
            "Requirement already satisfied: tzdata>=2022.1 in /usr/local/lib/python3.10/dist-packages (from pandas>=1.1.4->ultralytics) (2024.1)\n",
            "Requirement already satisfied: charset-normalizer<4,>=2 in /usr/local/lib/python3.10/dist-packages (from requests>=2.23.0->ultralytics) (3.3.2)\n",
            "Requirement already satisfied: idna<4,>=2.5 in /usr/local/lib/python3.10/dist-packages (from requests>=2.23.0->ultralytics) (3.8)\n",
            "Requirement already satisfied: urllib3<3,>=1.21.1 in /usr/local/lib/python3.10/dist-packages (from requests>=2.23.0->ultralytics) (2.0.7)\n",
            "Requirement already satisfied: certifi>=2017.4.17 in /usr/local/lib/python3.10/dist-packages (from requests>=2.23.0->ultralytics) (2024.7.4)\n",
            "Requirement already satisfied: filelock in /usr/local/lib/python3.10/dist-packages (from torch>=1.8.0->ultralytics) (3.15.4)\n",
            "Requirement already satisfied: typing-extensions>=4.8.0 in /usr/local/lib/python3.10/dist-packages (from torch>=1.8.0->ultralytics) (4.12.2)\n",
            "Requirement already satisfied: sympy in /usr/local/lib/python3.10/dist-packages (from torch>=1.8.0->ultralytics) (1.13.2)\n",
            "Requirement already satisfied: networkx in /usr/local/lib/python3.10/dist-packages (from torch>=1.8.0->ultralytics) (3.3)\n",
            "Requirement already satisfied: jinja2 in /usr/local/lib/python3.10/dist-packages (from torch>=1.8.0->ultralytics) (3.1.4)\n",
            "Requirement already satisfied: fsspec in /usr/local/lib/python3.10/dist-packages (from torch>=1.8.0->ultralytics) (2024.6.1)\n",
            "Requirement already satisfied: six>=1.5 in /usr/local/lib/python3.10/dist-packages (from python-dateutil>=2.7->matplotlib>=3.3.0->ultralytics) (1.16.0)\n",
            "Requirement already satisfied: MarkupSafe>=2.0 in /usr/local/lib/python3.10/dist-packages (from jinja2->torch>=1.8.0->ultralytics) (2.1.5)\n",
            "Requirement already satisfied: mpmath<1.4,>=1.1.0 in /usr/local/lib/python3.10/dist-packages (from sympy->torch>=1.8.0->ultralytics) (1.3.0)\n",
            "Downloading ultralytics-8.2.84-py3-none-any.whl (872 kB)\n",
            "\u001b[2K   \u001b[90m━━━━━━━━━━━━━━━━━━━━━━━━━━━━━━━━━━━━━━━━\u001b[0m \u001b[32m872.2/872.2 kB\u001b[0m \u001b[31m14.8 MB/s\u001b[0m eta \u001b[36m0:00:00\u001b[0m\n",
            "\u001b[?25hDownloading ultralytics_thop-2.0.5-py3-none-any.whl (25 kB)\n",
            "Installing collected packages: ultralytics-thop, ultralytics\n",
            "Successfully installed ultralytics-8.2.84 ultralytics-thop-2.0.5\n"
          ]
        }
      ]
    },
    {
      "cell_type": "code",
      "source": [
        "from ultralytics import YOLO\n",
        "\n",
        "# Check if YOLOv8 is installed correctly\n",
        "YOLO('yolov8n.pt').info()\n"
      ],
      "metadata": {
        "colab": {
          "base_uri": "https://localhost:8080/"
        },
        "id": "kbl4slaRWFsZ",
        "outputId": "4fe19db0-29e5-483b-ef0b-5d9b10c9e806"
      },
      "execution_count": null,
      "outputs": [
        {
          "output_type": "stream",
          "name": "stdout",
          "text": [
            "Downloading https://github.com/ultralytics/assets/releases/download/v8.2.0/yolov8n.pt to 'yolov8n.pt'...\n"
          ]
        },
        {
          "output_type": "stream",
          "name": "stderr",
          "text": [
            "100%|██████████| 6.25M/6.25M [00:00<00:00, 111MB/s]\n"
          ]
        },
        {
          "output_type": "stream",
          "name": "stdout",
          "text": [
            "YOLOv8n summary: 225 layers, 3,157,200 parameters, 0 gradients, 8.9 GFLOPs\n"
          ]
        },
        {
          "output_type": "execute_result",
          "data": {
            "text/plain": [
              "(225, 3157200, 0, 8.8575488)"
            ]
          },
          "metadata": {},
          "execution_count": 2
        }
      ]
    },
    {
      "cell_type": "code",
      "source": [
        "from google.colab import drive\n",
        "drive.mount('/content/drive')\n",
        "\n",
        "# Optionally, copy the dataset to your working directory\n",
        "!unzip /content/drive/MyDrive/dataset.zip -d /content/dataset\n"
      ],
      "metadata": {
        "colab": {
          "base_uri": "https://localhost:8080/"
        },
        "id": "dhpT6FrCWTiv",
        "outputId": "b6e1c5ea-a759-46ee-f980-88b8344499f5"
      },
      "execution_count": null,
      "outputs": [
        {
          "output_type": "stream",
          "name": "stdout",
          "text": [
            "Mounted at /content/drive\n",
            "Archive:  /content/drive/MyDrive/dataset.zip\n",
            "   creating: /content/dataset/dataset/labels/test/\n",
            "   creating: /content/dataset/dataset/labels/train/\n",
            "  inflating: /content/dataset/dataset/images/train/IMG_6366.jpg  \n",
            "  inflating: /content/dataset/dataset/images/train/IMG_6373.jpg  \n",
            "  inflating: /content/dataset/dataset/images/train/IMG_6363.jpg  \n",
            "  inflating: /content/dataset/dataset/images/train/IMG_6361.jpg  \n",
            "  inflating: /content/dataset/dataset/images/train/IMG_6371.jpg  \n",
            "  inflating: /content/dataset/dataset/images/train/IMG_6374.jpg  \n",
            "  inflating: /content/dataset/dataset/images/train/IMG_6365.jpg  \n",
            "  inflating: /content/dataset/dataset/images/train/IMG_6376.jpg  \n",
            "  inflating: /content/dataset/dataset/images/train/IMG_6367.jpg  \n",
            "  inflating: /content/dataset/dataset/images/train/IMG_6364.jpg  \n",
            "  inflating: /content/dataset/dataset/images/train/IMG_6369.jpg  \n",
            "  inflating: /content/dataset/dataset/images/train/IMG_6362.jpg  \n",
            "  inflating: /content/dataset/dataset/images/train/IMG_6355.jpg  \n",
            "  inflating: /content/dataset/dataset/images/train/IMG_6377.jpg  \n",
            "  inflating: /content/dataset/dataset/images/train/IMG_6357.jpg  \n",
            "  inflating: /content/dataset/dataset/images/train/IMG_6375.jpg  \n",
            "  inflating: /content/dataset/dataset/images/train/IMG_6370.jpg  \n",
            "  inflating: /content/dataset/dataset/images/train/IMG_6379.jpg  \n",
            "  inflating: /content/dataset/dataset/images/train/IMG_6356.jpg  \n",
            "  inflating: /content/dataset/dataset/images/train/IMG_6347.jpg  \n",
            "  inflating: /content/dataset/dataset/images/train/IMG_6359.jpg  \n",
            "  inflating: /content/dataset/dataset/images/train/IMG_6351.jpg  \n",
            "  inflating: /content/dataset/dataset/images/train/IMG_6352.jpg  \n",
            "  inflating: /content/dataset/dataset/images/train/IMG_6349.jpg  \n",
            "  inflating: /content/dataset/dataset/images/train/IMG_6350.jpg  \n",
            "  inflating: /content/dataset/dataset/images/train/IMG_6345.jpg  \n",
            "  inflating: /content/dataset/dataset/images/train/IMG_6358.jpg  \n",
            "  inflating: /content/dataset/dataset/images/train/IMG_6340.jpg  \n",
            "  inflating: /content/dataset/dataset/images/train/IMG_6348.jpg  \n",
            "  inflating: /content/dataset/dataset/images/test/IMG_6865.jpeg  \n",
            "  inflating: /content/dataset/dataset/images/train/IMG_6343.jpg  \n",
            "  inflating: /content/dataset/dataset/images/train/IMG_6341.jpg  \n",
            "  inflating: /content/dataset/dataset/images/test/IMG_6867.jpeg  \n",
            "  inflating: /content/dataset/dataset/images/train/IMG_6360.jpg  \n",
            "  inflating: /content/dataset/dataset/images/train/IMG_6372.jpg  \n",
            "  inflating: /content/dataset/dataset/images/train/IMG_6378.jpg  \n",
            "  inflating: /content/dataset/dataset/images/train/IMG_6342.jpg  \n",
            "  inflating: /content/dataset/dataset/images/train/IMG_6354.jpg  \n",
            "  inflating: /content/dataset/dataset/images/train/IMG_6368.jpg  \n",
            "  inflating: /content/dataset/dataset/images/test/IMG_6862.jpeg  \n",
            "  inflating: /content/dataset/dataset/images/train/IMG_6344.jpg  \n",
            "  inflating: /content/dataset/dataset/images/test/IMG_6864.jpeg  \n",
            "  inflating: /content/dataset/dataset/images/test/IMG_6860.jpeg  \n",
            "  inflating: /content/dataset/dataset/images/test/IMG_6866.jpeg  \n",
            "  inflating: /content/dataset/dataset/images/test/IMG_6857.jpeg  \n",
            "  inflating: /content/dataset/dataset/images/test/IMG_6856.jpeg  \n",
            "  inflating: /content/dataset/dataset/images/train/IMG_6334.jpg  \n",
            "  inflating: /content/dataset/dataset/images/train/IMG_6338.jpg  \n",
            "  inflating: /content/dataset/dataset/images/train/IMG_6332.jpg  \n",
            "  inflating: /content/dataset/dataset/images/train/IMG_6337.jpg  \n",
            "  inflating: /content/dataset/dataset/images/train/IMG_6335.jpg  \n",
            "  inflating: /content/dataset/dataset/images/test/IMG_6859.jpeg  \n",
            "  inflating: /content/dataset/dataset/images/test/IMG_6858.jpeg  \n",
            "  inflating: /content/dataset/dataset/images/test/IMG_6850.jpeg  \n",
            "  inflating: /content/dataset/dataset/images/test/IMG_6847.jpeg  \n",
            "  inflating: /content/dataset/dataset/images/test/IMG_6861.jpeg  \n",
            "  inflating: /content/dataset/dataset/images/test/IMG_6863.jpeg  \n",
            "  inflating: /content/dataset/dataset/images/test/IMG_6848.jpeg  \n",
            "  inflating: /content/dataset/dataset/images/train/IMG_6339.jpg  \n",
            "  inflating: /content/dataset/dataset/images/test/IMG_6851.jpeg  \n",
            "  inflating: /content/dataset/dataset/images/test/IMG_6855.jpeg  \n",
            "  inflating: /content/dataset/dataset/images/train/IMG_6325.jpg  \n",
            "  inflating: /content/dataset/dataset/images/train/IMG_6331.jpg  \n",
            "  inflating: /content/dataset/dataset/images/train/IMG_6346.jpg  \n",
            "  inflating: /content/dataset/dataset/images/train/IMG_6333.jpg  \n",
            "  inflating: /content/dataset/dataset/images/train/IMG_6353.jpg  \n",
            "  inflating: /content/dataset/dataset/images/train/IMG_6330.jpg  \n",
            "  inflating: /content/dataset/dataset/images/train/IMG_6328.jpg  \n",
            "  inflating: /content/dataset/dataset/images/train/IMG_6327.jpg  \n",
            "  inflating: /content/dataset/dataset/images/train/IMG_6321.jpg  \n",
            "  inflating: /content/dataset/dataset/images/test/IMG_6846.jpeg  \n",
            "  inflating: /content/dataset/dataset/images/test/IMG_6849.jpeg  \n",
            "  inflating: /content/dataset/dataset/images/train/IMG_6336.jpg  \n",
            "  inflating: /content/dataset/dataset/images/train/IMG_6324.jpg  \n",
            "  inflating: /content/dataset/dataset/images/test/IMG_6838.jpeg  \n",
            "  inflating: /content/dataset/dataset/images/train/IMG_6318.jpg  \n",
            "  inflating: /content/dataset/dataset/images/train/IMG_6322.jpg  \n",
            "  inflating: /content/dataset/dataset/images/test/IMG_6840.jpeg  \n",
            "  inflating: /content/dataset/dataset/images/train/IMG_6326.jpg  \n",
            "  inflating: /content/dataset/dataset/images/test/IMG_6853.jpeg  \n",
            "  inflating: /content/dataset/dataset/images/test/IMG_6843.jpeg  \n",
            "  inflating: /content/dataset/dataset/images/test/IMG_6854.jpeg  \n",
            "  inflating: /content/dataset/dataset/images/train/IMG_6316.jpg  \n",
            "  inflating: /content/dataset/dataset/images/train/IMG_6320.jpg  \n",
            "  inflating: /content/dataset/dataset/images/train/IMG_6329.jpg  \n",
            "  inflating: /content/dataset/dataset/images/test/IMG_6839.jpeg  \n",
            "  inflating: /content/dataset/dataset/images/train/IMG_6323.jpg  \n",
            "  inflating: /content/dataset/dataset/images/train/IMG_6314.jpg  \n",
            "  inflating: /content/dataset/dataset/images/test/IMG_6844.jpeg  \n",
            "  inflating: /content/dataset/dataset/images/test/IMG_6842.jpeg  \n",
            "  inflating: /content/dataset/dataset/images/test/IMG_6836.jpeg  \n",
            "  inflating: /content/dataset/dataset/images/train/IMG_6309.jpg  \n",
            "  inflating: /content/dataset/dataset/images/train/IMG_6315.jpg  \n",
            "  inflating: /content/dataset/dataset/images/train/IMG_6311.jpg  \n",
            "  inflating: /content/dataset/dataset/images/test/IMG_6834.jpeg  \n",
            "  inflating: /content/dataset/dataset/images/train/IMG_6313.jpg  \n",
            "  inflating: /content/dataset/dataset/images/test/IMG_6852.jpeg  \n",
            "  inflating: /content/dataset/dataset/images/test/IMG_6837.jpeg  \n",
            "  inflating: /content/dataset/dataset/images/train/IMG_6319.jpg  \n",
            "  inflating: /content/dataset/dataset/images/test/IMG_6841.jpeg  \n",
            "  inflating: /content/dataset/dataset/images/train/IMG_6308.jpg  \n",
            "  inflating: /content/dataset/dataset/images/test/IMG_6823.jpeg  \n",
            "  inflating: /content/dataset/dataset/images/test/IMG_6830.jpeg  \n",
            "  inflating: /content/dataset/dataset/images/test/IMG_6819.jpeg  \n",
            "  inflating: /content/dataset/dataset/images/test/IMG_6831.jpeg  \n",
            "  inflating: /content/dataset/dataset/images/test/IMG_6828.jpeg  \n",
            "  inflating: /content/dataset/dataset/images/train/IMG_6310.jpg  \n",
            "  inflating: /content/dataset/dataset/images/test/IMG_6832.jpeg  \n",
            "  inflating: /content/dataset/dataset/images/test/IMG_6845.jpeg  \n",
            "  inflating: /content/dataset/dataset/images/test/IMG_6829.jpeg  \n",
            "  inflating: /content/dataset/dataset/images/test/IMG_6821.jpeg  \n",
            "  inflating: /content/dataset/dataset/images/test/IMG_6835.jpeg  \n",
            "  inflating: /content/dataset/dataset/images/test/IMG_6825.jpeg  \n",
            "  inflating: /content/dataset/dataset/images/train/IMG_6317.jpg  \n",
            "  inflating: /content/dataset/dataset/images/test/IMG_6826.jpeg  \n",
            "  inflating: /content/dataset/dataset/images/test/IMG_6827.jpeg  \n",
            "  inflating: /content/dataset/dataset/images/test/IMG_6824.jpeg  \n",
            "  inflating: /content/dataset/dataset/images/test/IMG_6820.jpeg  \n",
            "  inflating: /content/dataset/dataset/images/test/IMG_6817.jpeg  \n",
            "  inflating: /content/dataset/dataset/images/test/IMG_6812.jpeg  \n",
            "  inflating: /content/dataset/dataset/images/test/IMG_6815.jpeg  \n",
            "  inflating: /content/dataset/dataset/images/test/IMG_6818.jpeg  \n",
            "  inflating: /content/dataset/dataset/images/test/IMG_6814.jpeg  \n",
            "  inflating: /content/dataset/dataset/images/test/IMG_6803.jpeg  \n",
            "  inflating: /content/dataset/dataset/images/test/IMG_6805.jpeg  \n",
            "  inflating: /content/dataset/dataset/images/test/IMG_6804.jpeg  \n",
            "  inflating: /content/dataset/dataset/images/test/IMG_6799.jpeg  \n",
            "  inflating: /content/dataset/dataset/images/train/IMG_6312.jpg  \n",
            "  inflating: /content/dataset/dataset/images/test/IMG_6816.jpeg  \n",
            "  inflating: /content/dataset/dataset/images/test/IMG_6800.jpeg  \n",
            "  inflating: /content/dataset/dataset/images/test/IMG_6802.jpeg  \n",
            "  inflating: /content/dataset/dataset/images/test/IMG_6795.jpeg  \n",
            "  inflating: /content/dataset/dataset/images/test/IMG_6797.jpeg  \n",
            "  inflating: /content/dataset/dataset/images/test/IMG_6807.jpeg  \n",
            "  inflating: /content/dataset/dataset/images/test/IMG_6806.jpeg  \n",
            "  inflating: /content/dataset/dataset/images/test/IMG_6794.jpeg  \n",
            "  inflating: /content/dataset/dataset/images/test/IMG_6790.jpeg  \n",
            "  inflating: /content/dataset/dataset/images/test/IMG_6798.jpeg  \n",
            "  inflating: /content/dataset/dataset/images/test/IMG_6833.jpeg  \n",
            "  inflating: /content/dataset/dataset/images/test/IMG_6809.jpeg  \n",
            "  inflating: /content/dataset/dataset/images/test/IMG_6791.jpeg  \n",
            "  inflating: /content/dataset/dataset/images/test/IMG_6808.jpeg  \n",
            "  inflating: /content/dataset/dataset/images/test/IMG_6788.jpeg  \n",
            "  inflating: /content/dataset/dataset/images/test/IMG_6787.jpeg  \n",
            "  inflating: /content/dataset/dataset/images/test/IMG_6793.jpeg  \n",
            "  inflating: /content/dataset/dataset/images/test/IMG_6789.jpeg  \n",
            "  inflating: /content/dataset/dataset/images/test/IMG_6822.jpeg  \n",
            "  inflating: /content/dataset/dataset/images/test/IMG_6777.jpeg  \n",
            "  inflating: /content/dataset/dataset/images/test/IMG_6801.jpeg  \n",
            "  inflating: /content/dataset/dataset/images/test/IMG_6813.jpeg  \n",
            "  inflating: /content/dataset/dataset/images/test/IMG_6786.jpeg  \n",
            "  inflating: /content/dataset/dataset/images/test/IMG_6783.jpeg  \n",
            "  inflating: /content/dataset/dataset/images/test/IMG_6811.jpeg  \n",
            "  inflating: /content/dataset/dataset/images/test/IMG_6785.jpeg  \n",
            "  inflating: /content/dataset/dataset/images/test/IMG_6796.jpeg  \n",
            "  inflating: /content/dataset/dataset/images/test/IMG_6781.jpeg  \n",
            "  inflating: /content/dataset/dataset/images/test/IMG_6782.jpeg  \n",
            "  inflating: /content/dataset/dataset/images/test/IMG_6778.jpeg  \n",
            "  inflating: /content/dataset/dataset/images/test/IMG_6773.jpeg  \n",
            "  inflating: /content/dataset/dataset/images/test/IMG_6784.jpeg  \n",
            "  inflating: /content/dataset/dataset/images/test/IMG_6775.jpeg  \n",
            "  inflating: /content/dataset/dataset/images/test/IMG_6776.jpeg  \n",
            "  inflating: /content/dataset/dataset/images/test/IMG_6765.jpeg  \n",
            "  inflating: /content/dataset/dataset/images/test/IMG_6810.jpeg  \n",
            "  inflating: /content/dataset/dataset/labels_json/test/IMG_6866.json  \n",
            "  inflating: /content/dataset/dataset/images/test/IMG_6792.jpeg  \n",
            "  inflating: /content/dataset/dataset/labels_json/test/IMG_6867.json  \n",
            "  inflating: /content/dataset/dataset/images/test/IMG_6771.jpeg  \n",
            "  inflating: /content/dataset/dataset/images/test/IMG_6770.jpeg  \n",
            "  inflating: /content/dataset/dataset/labels_json/test/IMG_6865.json  \n",
            "  inflating: /content/dataset/dataset/labels_json/test/IMG_6857.json  \n",
            "  inflating: /content/dataset/dataset/images/test/IMG_6772.jpeg  \n",
            "  inflating: /content/dataset/dataset/images/test/IMG_6769.jpeg  \n",
            "  inflating: /content/dataset/dataset/images/test/IMG_6774.jpeg  \n",
            "  inflating: /content/dataset/dataset/labels_json/test/IMG_6861.json  \n",
            "  inflating: /content/dataset/dataset/images/test/IMG_6779.jpeg  \n",
            "  inflating: /content/dataset/dataset/images/test/IMG_6764.jpeg  \n",
            "  inflating: /content/dataset/dataset/images/test/IMG_6768.jpeg  \n",
            "  inflating: /content/dataset/dataset/labels_json/test/IMG_6863.json  \n",
            "  inflating: /content/dataset/dataset/images/test/IMG_6780.jpeg  \n",
            "  inflating: /content/dataset/dataset/labels_json/test/IMG_6851.json  \n",
            "  inflating: /content/dataset/dataset/images/test/IMG_6766.jpeg  \n",
            "  inflating: /content/dataset/dataset/labels_json/test/IMG_6862.json  \n",
            "  inflating: /content/dataset/dataset/labels_json/test/IMG_6855.json  \n",
            "  inflating: /content/dataset/dataset/labels_json/test/IMG_6856.json  \n",
            "  inflating: /content/dataset/dataset/labels_json/test/IMG_6842.json  \n",
            "  inflating: /content/dataset/dataset/labels_json/test/IMG_6860.json  \n",
            "  inflating: /content/dataset/dataset/labels_json/test/IMG_6853.json  \n",
            "  inflating: /content/dataset/dataset/images/test/IMG_6767.jpeg  \n",
            "  inflating: /content/dataset/dataset/labels_json/test/IMG_6864.json  \n",
            "  inflating: /content/dataset/dataset/images/test/IMG_6763.jpeg  \n",
            "  inflating: /content/dataset/dataset/labels_json/test/IMG_6845.json  \n",
            "  inflating: /content/dataset/dataset/labels_json/test/IMG_6848.json  \n",
            "  inflating: /content/dataset/dataset/labels_json/test/IMG_6839.json  \n",
            "  inflating: /content/dataset/dataset/labels_json/test/IMG_6844.json  \n",
            "  inflating: /content/dataset/dataset/labels_json/test/IMG_6859.json  \n",
            "  inflating: /content/dataset/dataset/labels_json/test/IMG_6849.json  \n",
            "  inflating: /content/dataset/dataset/labels_json/test/IMG_6847.json  \n",
            "  inflating: /content/dataset/dataset/labels_json/test/IMG_6840.json  \n",
            "  inflating: /content/dataset/dataset/labels_json/test/IMG_6852.json  \n",
            "  inflating: /content/dataset/dataset/labels_json/test/IMG_6838.json  \n",
            "  inflating: /content/dataset/dataset/labels_json/test/IMG_6841.json  \n",
            "  inflating: /content/dataset/dataset/labels_json/test/IMG_6854.json  \n",
            "  inflating: /content/dataset/dataset/labels_json/test/IMG_6832.json  \n",
            "  inflating: /content/dataset/dataset/labels_json/test/IMG_6833.json  \n",
            "  inflating: /content/dataset/dataset/labels_json/test/IMG_6843.json  \n",
            "  inflating: /content/dataset/dataset/labels_json/test/IMG_6835.json  \n",
            "  inflating: /content/dataset/dataset/labels_json/test/IMG_6820.json  \n",
            "  inflating: /content/dataset/dataset/labels_json/test/IMG_6830.json  \n",
            "  inflating: /content/dataset/dataset/labels_json/test/IMG_6821.json  \n",
            "  inflating: /content/dataset/dataset/labels_json/test/IMG_6823.json  \n",
            "  inflating: /content/dataset/dataset/labels_json/test/IMG_6850.json  \n",
            "  inflating: /content/dataset/dataset/labels_json/test/IMG_6825.json  \n",
            "  inflating: /content/dataset/dataset/labels_json/test/IMG_6829.json  \n",
            "  inflating: /content/dataset/dataset/labels_json/test/IMG_6812.json  \n",
            "  inflating: /content/dataset/dataset/labels_json/test/IMG_6826.json  \n",
            "  inflating: /content/dataset/dataset/labels_json/test/IMG_6818.json  \n",
            "  inflating: /content/dataset/dataset/labels_json/test/IMG_6836.json  \n",
            "  inflating: /content/dataset/dataset/labels_json/test/IMG_6822.json  \n",
            "  inflating: /content/dataset/dataset/labels_json/test/IMG_6834.json  \n",
            "  inflating: /content/dataset/dataset/labels_json/test/IMG_6819.json  \n",
            "  inflating: /content/dataset/dataset/labels_json/test/IMG_6814.json  \n",
            "  inflating: /content/dataset/dataset/labels_json/test/IMG_6837.json  \n",
            "  inflating: /content/dataset/dataset/labels_json/test/IMG_6813.json  \n",
            "  inflating: /content/dataset/dataset/labels_json/test/IMG_6808.json  \n",
            "  inflating: /content/dataset/dataset/labels_json/test/IMG_6846.json  \n",
            "  inflating: /content/dataset/dataset/labels_json/test/IMG_6828.json  \n",
            "  inflating: /content/dataset/dataset/labels_json/test/IMG_6817.json  \n",
            "  inflating: /content/dataset/dataset/labels_json/test/IMG_6816.json  \n",
            "  inflating: /content/dataset/dataset/labels_json/train/IMG_6378.json  \n",
            "  inflating: /content/dataset/dataset/labels_json/test/IMG_6827.json  \n",
            "  inflating: /content/dataset/dataset/labels_json/test/IMG_6815.json  \n",
            "  inflating: /content/dataset/dataset/labels_json/train/IMG_6379.json  \n",
            "  inflating: /content/dataset/dataset/labels_json/test/IMG_6810.json  \n",
            "  inflating: /content/dataset/dataset/labels_json/train/IMG_6371.json  \n",
            "  inflating: /content/dataset/dataset/labels_json/test/IMG_6811.json  \n",
            "  inflating: /content/dataset/dataset/labels_json/train/IMG_6377.json  \n",
            "  inflating: /content/dataset/dataset/labels_json/test/IMG_6824.json  \n",
            "  inflating: /content/dataset/dataset/labels_json/train/IMG_6372.json  \n",
            "  inflating: /content/dataset/dataset/labels_json/test/IMG_6831.json  \n",
            "  inflating: /content/dataset/dataset/labels_json/test/IMG_6858.json  \n",
            "  inflating: /content/dataset/dataset/labels_json/test/IMG_6802.json  \n",
            "  inflating: /content/dataset/dataset/labels_json/train/IMG_6373.json  \n",
            "  inflating: /content/dataset/dataset/labels_json/test/IMG_6809.json  \n",
            "  inflating: /content/dataset/dataset/labels_json/train/IMG_6374.json  \n",
            "  inflating: /content/dataset/dataset/labels_json/test/IMG_6807.json  \n",
            "  inflating: /content/dataset/dataset/labels_json/test/IMG_6803.json  \n",
            "  inflating: /content/dataset/dataset/labels_json/test/IMG_6806.json  \n",
            "  inflating: /content/dataset/dataset/labels_json/train/IMG_6366.json  \n",
            "  inflating: /content/dataset/dataset/labels_json/test/IMG_6804.json  \n",
            "  inflating: /content/dataset/dataset/labels_json/test/IMG_6796.json  \n",
            "  inflating: /content/dataset/dataset/labels_json/train/IMG_6369.json  \n",
            "  inflating: /content/dataset/dataset/labels_json/train/IMG_6363.json  \n",
            "  inflating: /content/dataset/dataset/labels_json/test/IMG_6794.json  \n",
            "  inflating: /content/dataset/dataset/labels_json/test/IMG_6800.json  \n",
            "  inflating: /content/dataset/dataset/labels_json/test/IMG_6787.json  \n",
            "  inflating: /content/dataset/dataset/labels_json/train/IMG_6361.json  \n",
            "  inflating: /content/dataset/dataset/labels_json/test/IMG_6798.json  \n",
            "  inflating: /content/dataset/dataset/labels_json/test/IMG_6795.json  \n",
            "  inflating: /content/dataset/dataset/labels_json/train/IMG_6376.json  \n",
            "  inflating: /content/dataset/dataset/labels_json/test/IMG_6788.json  \n",
            "  inflating: /content/dataset/dataset/labels_json/train/IMG_6364.json  \n",
            "  inflating: /content/dataset/dataset/labels_json/train/IMG_6360.json  \n",
            "  inflating: /content/dataset/dataset/labels_json/test/IMG_6797.json  \n",
            "  inflating: /content/dataset/dataset/labels_json/train/IMG_6365.json  \n",
            "  inflating: /content/dataset/dataset/labels_json/test/IMG_6799.json  \n",
            "  inflating: /content/dataset/dataset/labels_json/train/IMG_6375.json  \n",
            "  inflating: /content/dataset/dataset/labels_json/test/IMG_6789.json  \n",
            "  inflating: /content/dataset/dataset/labels_json/test/IMG_6801.json  \n",
            "  inflating: /content/dataset/dataset/labels_json/train/IMG_6368.json  \n",
            "  inflating: /content/dataset/dataset/labels_json/test/IMG_6793.json  \n",
            "  inflating: /content/dataset/dataset/labels_json/train/IMG_6355.json  \n",
            "  inflating: /content/dataset/dataset/labels_json/test/IMG_6790.json  \n",
            "  inflating: /content/dataset/dataset/labels_json/train/IMG_6359.json  \n",
            "  inflating: /content/dataset/dataset/labels_json/train/IMG_6367.json  \n",
            "  inflating: /content/dataset/dataset/labels_json/test/IMG_6785.json  \n",
            "  inflating: /content/dataset/dataset/labels_json/train/IMG_6362.json  \n",
            "  inflating: /content/dataset/dataset/labels_json/train/IMG_6357.json  \n",
            "  inflating: /content/dataset/dataset/labels_json/test/IMG_6805.json  \n",
            "  inflating: /content/dataset/dataset/labels_json/train/IMG_6350.json  \n",
            "  inflating: /content/dataset/dataset/labels_json/test/IMG_6791.json  \n",
            "  inflating: /content/dataset/dataset/labels_json/train/IMG_6352.json  \n",
            "  inflating: /content/dataset/dataset/labels_json/train/IMG_6353.json  \n",
            "  inflating: /content/dataset/dataset/labels_json/train/IMG_6351.json  \n",
            "  inflating: /content/dataset/dataset/labels_json/test/IMG_6786.json  \n",
            "  inflating: /content/dataset/dataset/labels_json/train/IMG_6346.json  \n",
            "  inflating: /content/dataset/dataset/labels_json/train/IMG_6356.json  \n",
            "  inflating: /content/dataset/dataset/labels_json/train/IMG_6354.json  \n",
            "  inflating: /content/dataset/dataset/labels_json/test/IMG_6792.json  \n",
            "  inflating: /content/dataset/dataset/labels_json/train/IMG_6340.json  \n",
            "  inflating: /content/dataset/dataset/labels_json/train/IMG_6347.json  \n",
            "  inflating: /content/dataset/dataset/labels_json/test/IMG_6784.json  \n",
            "  inflating: /content/dataset/dataset/labels_json/train/IMG_6358.json  \n",
            "  inflating: /content/dataset/dataset/labels_json/train/IMG_6348.json  \n",
            "  inflating: /content/dataset/dataset/labels_json/train/IMG_6345.json  \n",
            "  inflating: /content/dataset/dataset/labels_json/train/IMG_6349.json  \n",
            "  inflating: /content/dataset/dataset/labels_json/test/IMG_6783.json  \n",
            "  inflating: /content/dataset/dataset/labels_json/train/IMG_6344.json  \n",
            "  inflating: /content/dataset/dataset/labels_json/test/IMG_6782.json  \n",
            "  inflating: /content/dataset/dataset/labels_json/test/IMG_6775.json  \n",
            "  inflating: /content/dataset/dataset/labels_json/test/IMG_6781.json  \n",
            "  inflating: /content/dataset/dataset/labels_json/test/IMG_6779.json  \n",
            "  inflating: /content/dataset/dataset/labels_json/test/IMG_6778.json  \n",
            "  inflating: /content/dataset/dataset/labels_json/train/IMG_6335.json  \n",
            "  inflating: /content/dataset/dataset/labels_json/test/IMG_6774.json  \n",
            "  inflating: /content/dataset/dataset/labels_json/train/IMG_6341.json  \n",
            "  inflating: /content/dataset/dataset/labels_json/train/IMG_6342.json  \n",
            "  inflating: /content/dataset/dataset/labels_json/test/IMG_6777.json  \n",
            "  inflating: /content/dataset/dataset/labels_json/test/IMG_6780.json  \n",
            "  inflating: /content/dataset/dataset/labels_json/train/IMG_6343.json  \n",
            "  inflating: /content/dataset/dataset/labels_json/train/IMG_6338.json  \n",
            "  inflating: /content/dataset/dataset/labels_json/train/IMG_6336.json  \n",
            "  inflating: /content/dataset/dataset/labels_json/test/IMG_6776.json  \n",
            "  inflating: /content/dataset/dataset/labels_json/train/IMG_6334.json  \n",
            "  inflating: /content/dataset/dataset/labels_json/test/IMG_6770.json  \n",
            "  inflating: /content/dataset/dataset/labels_json/test/IMG_6768.json  \n",
            "  inflating: /content/dataset/dataset/labels_json/test/IMG_6771.json  \n",
            "  inflating: /content/dataset/dataset/labels_json/test/IMG_6769.json  \n",
            "  inflating: /content/dataset/dataset/labels_json/train/IMG_6333.json  \n",
            "  inflating: /content/dataset/dataset/labels_json/train/IMG_6337.json  \n",
            "  inflating: /content/dataset/dataset/labels_json/test/IMG_6764.json  \n",
            "  inflating: /content/dataset/dataset/labels_json/test/IMG_6767.json  \n",
            "  inflating: /content/dataset/dataset/labels_json/train/IMG_6331.json  \n",
            "  inflating: /content/dataset/dataset/labels_json/test/IMG_6766.json  \n",
            "  inflating: /content/dataset/dataset/labels_json/train/IMG_6332.json  \n",
            "  inflating: /content/dataset/dataset/labels_json/train/IMG_6326.json  \n",
            "  inflating: /content/dataset/dataset/labels_json/train/IMG_6327.json  \n",
            "  inflating: /content/dataset/dataset/labels_json/train/IMG_6328.json  \n",
            "  inflating: /content/dataset/dataset/labels_json/train/IMG_6324.json  \n",
            "  inflating: /content/dataset/dataset/labels_json/test/IMG_6763.json  \n",
            "  inflating: /content/dataset/dataset/labels_json/test/IMG_6772.json  \n",
            "  inflating: /content/dataset/dataset/labels_json/train/IMG_6323.json  \n",
            "  inflating: /content/dataset/dataset/labels_json/test/IMG_6765.json  \n",
            "  inflating: /content/dataset/dataset/labels_json/train/IMG_6318.json  \n",
            "  inflating: /content/dataset/dataset/labels_json/train/IMG_6315.json  \n",
            "  inflating: /content/dataset/dataset/labels_json/train/IMG_6321.json  \n",
            "  inflating: /content/dataset/dataset/labels_json/train/IMG_6329.json  \n",
            "  inflating: /content/dataset/dataset/labels_json/train/IMG_6325.json  \n",
            "  inflating: /content/dataset/dataset/labels_json/train/IMG_6320.json  \n",
            "  inflating: /content/dataset/dataset/labels_json/train/IMG_6319.json  \n",
            "  inflating: /content/dataset/dataset/labels_json/test/IMG_6773.json  \n",
            "  inflating: /content/dataset/dataset/labels_json/train/IMG_6310.json  \n",
            "  inflating: /content/dataset/dataset/labels_json/train/IMG_6339.json  \n",
            "  inflating: /content/dataset/dataset/labels_json/train/IMG_6309.json  \n",
            "  inflating: /content/dataset/dataset/labels_json/train/IMG_6322.json  \n",
            "  inflating: /content/dataset/dataset/labels_json/train/IMG_6317.json  \n",
            "  inflating: /content/dataset/dataset/labels_json/train/IMG_6311.json  \n",
            "  inflating: /content/dataset/dataset/labels_json/train/IMG_6308.json  \n",
            "  inflating: /content/dataset/dataset/labels_json/train/IMG_6312.json  \n",
            "  inflating: /content/dataset/dataset/labels_json/train/IMG_6316.json  \n",
            "  inflating: /content/dataset/dataset/labels_json/train/IMG_6330.json  \n",
            "  inflating: /content/dataset/dataset/labels_json/train/IMG_6314.json  \n",
            "  inflating: /content/dataset/dataset/labels_json/train/IMG_6370.json  \n",
            "  inflating: /content/dataset/dataset/labels_json/train/IMG_6313.json  \n"
          ]
        }
      ]
    },
    {
      "cell_type": "code",
      "source": [
        "import os\n",
        "import json\n",
        "\n",
        "# Function to convert polygons to bounding boxes\n",
        "def polygon_to_bbox(points):\n",
        "    x_coordinates = [point[0] for point in points]\n",
        "    y_coordinates = [point[1] for point in points]\n",
        "    x_min = min(x_coordinates)\n",
        "    x_max = max(x_coordinates)\n",
        "    y_min = min(y_coordinates)\n",
        "    y_max = max(y_coordinates)\n",
        "    return [x_min, y_min, x_max - x_min, y_max - y_min]\n",
        "\n",
        "# Paths\n",
        "json_dir_train = '/content/dataset/dataset/labels_json/train'  # Path to your labelme JSON files\n",
        "json_dir_test = '/content/dataset/dataset/labels_json/test'  # Path to your labelme JSON files\n",
        "output_dir_train = '/content/dataset/dataset/labels/train'  # Path where you want to save YOLO labels\n",
        "output_dir_test = '/content/dataset/dataset/labels/test'  # Path where you want to save YOLO labels\n",
        "os.makedirs(output_dir_train, exist_ok=True)\n",
        "\n",
        "# Mapping class names to class IDs (YOLO expects class IDs starting from 0)\n",
        "class_name_to_id = {\"Initial\": 0, \"Middle\": 1, \"Harvest\": 2}  # Update this dictionary based on your classes\n",
        "\n",
        "# Loop through each JSON file train\n",
        "for json_file in os.listdir(json_dir_train):\n",
        "    if json_file.endswith('.json'):\n",
        "        with open(os.path.join(json_dir_train, json_file), 'r') as f:\n",
        "            data = json.load(f)\n",
        "\n",
        "        img_height = data['imageHeight']\n",
        "        img_width = data['imageWidth']\n",
        "\n",
        "        yolo_lines = []\n",
        "        for shape in data['shapes']:\n",
        "            label = shape['label']\n",
        "            points = shape['points']\n",
        "            bbox = polygon_to_bbox(points)\n",
        "\n",
        "            # Convert bbox to YOLO format\n",
        "            x_center = (bbox[0] + bbox[2] / 2) / img_width\n",
        "            y_center = (bbox[1] + bbox[3] / 2) / img_height\n",
        "            width = bbox[2] / img_width\n",
        "            height = bbox[3] / img_height\n",
        "\n",
        "            class_id = class_name_to_id[label]\n",
        "\n",
        "            yolo_lines.append(f\"{class_id} {x_center} {y_center} {width} {height}\\n\")\n",
        "\n",
        "        # Save the YOLO format annotation\n",
        "        output_file = os.path.join(output_dir_train, os.path.splitext(json_file)[0] + '.txt')\n",
        "        with open(output_file, 'w') as f:\n",
        "            f.writelines(yolo_lines)\n",
        "\n",
        "os.makedirs(output_dir_test, exist_ok=True)\n",
        "# Loop through each JSON file test\n",
        "for json_file in os.listdir(json_dir_test):\n",
        "    if json_file.endswith('.json'):\n",
        "        with open(os.path.join(json_dir_test, json_file), 'r') as f:\n",
        "            data = json.load(f)\n",
        "\n",
        "        img_height = data['imageHeight']\n",
        "        img_width = data['imageWidth']\n",
        "\n",
        "        yolo_lines = []\n",
        "        for shape in data['shapes']:\n",
        "            label = shape['label']\n",
        "            points = shape['points']\n",
        "            bbox = polygon_to_bbox(points)\n",
        "\n",
        "            # Convert bbox to YOLO format\n",
        "            x_center = (bbox[0] + bbox[2] / 2) / img_width\n",
        "            y_center = (bbox[1] + bbox[3] / 2) / img_height\n",
        "            width = bbox[2] / img_width\n",
        "            height = bbox[3] / img_height\n",
        "\n",
        "            class_id = class_name_to_id[label]\n",
        "\n",
        "            yolo_lines.append(f\"{class_id} {x_center} {y_center} {width} {height}\\n\")\n",
        "\n",
        "        # Save the YOLO format annotation\n",
        "        output_file = os.path.join(output_dir_test, os.path.splitext(json_file)[0] + '.txt')\n",
        "        with open(output_file, 'w') as f:\n",
        "            f.writelines(yolo_lines)\n",
        "\n"
      ],
      "metadata": {
        "id": "_TuPoN3prn3v"
      },
      "execution_count": null,
      "outputs": []
    },
    {
      "cell_type": "code",
      "source": [
        "yaml_content = \"\"\"\n",
        "train: /content/dataset/dataset/images/train\n",
        "val: /content/dataset/dataset/images/test\n",
        "nc: 3\n",
        "name:\n",
        "  -Initial\n",
        "  -Middle\n",
        "  -Harvest\n",
        "\"\"\"\n",
        "\n",
        "\n",
        "\n",
        "# 将YAML内容写入文件\n",
        "with open('data.yaml', 'w') as file:\n",
        "    file.write(yaml_content)\n"
      ],
      "metadata": {
        "id": "6Jtr47Mgv2Vt"
      },
      "execution_count": null,
      "outputs": []
    },
    {
      "cell_type": "code",
      "source": [
        "import matplotlib.pyplot as plt\n",
        "\n",
        "model = YOLO('yolov8n.pt')  # Load a pretrained YOLOv8 model\n",
        "\n",
        "# Train the model\n",
        " # Example: Training with early stopping, increased weight decay, and data augmentation\n",
        "results =model.train(\n",
        "    data='/content/data.yaml',\n",
        "    epochs=50,\n",
        "    imgsz=640,\n",
        "    batch=16,\n",
        "    patience=5,  # Early stopping after 5 epochs of no improvement\n",
        "    weight_decay=0.001,  # Increase weight decay for regularization\n",
        "    augment=True  # Enable/extend data augmentation\n",
        ")\n",
        "\n"
      ],
      "metadata": {
        "colab": {
          "base_uri": "https://localhost:8080/"
        },
        "id": "-lEiSmPmWmgl",
        "outputId": "e96d2a46-54ab-4b29-8ca4-9c97e498d038"
      },
      "execution_count": 47,
      "outputs": [
        {
          "output_type": "stream",
          "name": "stdout",
          "text": [
            "Ultralytics YOLOv8.2.84 🚀 Python-3.10.12 torch-2.4.0+cu121 CUDA:0 (Tesla T4, 15102MiB)\n",
            "\u001b[34m\u001b[1mengine/trainer: \u001b[0mtask=detect, mode=train, model=yolov8n.pt, data=/content/data.yaml, epochs=50, time=None, patience=5, batch=16, imgsz=640, save=True, save_period=-1, cache=False, device=None, workers=8, project=None, name=train10, exist_ok=False, pretrained=True, optimizer=auto, verbose=True, seed=0, deterministic=True, single_cls=False, rect=False, cos_lr=False, close_mosaic=10, resume=False, amp=True, fraction=1.0, profile=False, freeze=None, multi_scale=False, overlap_mask=True, mask_ratio=4, dropout=0.0, val=True, split=val, save_json=False, save_hybrid=False, conf=None, iou=0.7, max_det=300, half=False, dnn=False, plots=True, source=None, vid_stride=1, stream_buffer=False, visualize=False, augment=True, agnostic_nms=False, classes=None, retina_masks=False, embed=None, show=False, save_frames=False, save_txt=False, save_conf=False, save_crop=False, show_labels=True, show_conf=True, show_boxes=True, line_width=None, format=torchscript, keras=False, optimize=False, int8=False, dynamic=False, simplify=False, opset=None, workspace=4, nms=False, lr0=0.01, lrf=0.01, momentum=0.937, weight_decay=0.001, warmup_epochs=3.0, warmup_momentum=0.8, warmup_bias_lr=0.1, box=7.5, cls=0.5, dfl=1.5, pose=12.0, kobj=1.0, label_smoothing=0.0, nbs=64, hsv_h=0.015, hsv_s=0.7, hsv_v=0.4, degrees=0.0, translate=0.1, scale=0.5, shear=0.0, perspective=0.0, flipud=0.0, fliplr=0.5, bgr=0.0, mosaic=1.0, mixup=0.0, copy_paste=0.0, auto_augment=randaugment, erasing=0.4, crop_fraction=1.0, cfg=None, tracker=botsort.yaml, save_dir=runs/detect/train10\n",
            "Overriding model.yaml nc=80 with nc=3\n",
            "\n",
            "                   from  n    params  module                                       arguments                     \n",
            "  0                  -1  1       464  ultralytics.nn.modules.conv.Conv             [3, 16, 3, 2]                 \n",
            "  1                  -1  1      4672  ultralytics.nn.modules.conv.Conv             [16, 32, 3, 2]                \n",
            "  2                  -1  1      7360  ultralytics.nn.modules.block.C2f             [32, 32, 1, True]             \n",
            "  3                  -1  1     18560  ultralytics.nn.modules.conv.Conv             [32, 64, 3, 2]                \n",
            "  4                  -1  2     49664  ultralytics.nn.modules.block.C2f             [64, 64, 2, True]             \n",
            "  5                  -1  1     73984  ultralytics.nn.modules.conv.Conv             [64, 128, 3, 2]               \n",
            "  6                  -1  2    197632  ultralytics.nn.modules.block.C2f             [128, 128, 2, True]           \n",
            "  7                  -1  1    295424  ultralytics.nn.modules.conv.Conv             [128, 256, 3, 2]              \n",
            "  8                  -1  1    460288  ultralytics.nn.modules.block.C2f             [256, 256, 1, True]           \n",
            "  9                  -1  1    164608  ultralytics.nn.modules.block.SPPF            [256, 256, 5]                 \n",
            " 10                  -1  1         0  torch.nn.modules.upsampling.Upsample         [None, 2, 'nearest']          \n",
            " 11             [-1, 6]  1         0  ultralytics.nn.modules.conv.Concat           [1]                           \n",
            " 12                  -1  1    148224  ultralytics.nn.modules.block.C2f             [384, 128, 1]                 \n",
            " 13                  -1  1         0  torch.nn.modules.upsampling.Upsample         [None, 2, 'nearest']          \n",
            " 14             [-1, 4]  1         0  ultralytics.nn.modules.conv.Concat           [1]                           \n",
            " 15                  -1  1     37248  ultralytics.nn.modules.block.C2f             [192, 64, 1]                  \n",
            " 16                  -1  1     36992  ultralytics.nn.modules.conv.Conv             [64, 64, 3, 2]                \n",
            " 17            [-1, 12]  1         0  ultralytics.nn.modules.conv.Concat           [1]                           \n",
            " 18                  -1  1    123648  ultralytics.nn.modules.block.C2f             [192, 128, 1]                 \n",
            " 19                  -1  1    147712  ultralytics.nn.modules.conv.Conv             [128, 128, 3, 2]              \n",
            " 20             [-1, 9]  1         0  ultralytics.nn.modules.conv.Concat           [1]                           \n",
            " 21                  -1  1    493056  ultralytics.nn.modules.block.C2f             [384, 256, 1]                 \n",
            " 22        [15, 18, 21]  1    751897  ultralytics.nn.modules.head.Detect           [3, [64, 128, 256]]           \n",
            "Model summary: 225 layers, 3,011,433 parameters, 3,011,417 gradients, 8.2 GFLOPs\n",
            "\n",
            "Transferred 319/355 items from pretrained weights\n",
            "\u001b[34m\u001b[1mTensorBoard: \u001b[0mStart with 'tensorboard --logdir runs/detect/train10', view at http://localhost:6006/\n",
            "Freezing layer 'model.22.dfl.conv.weight'\n",
            "\u001b[34m\u001b[1mAMP: \u001b[0mrunning Automatic Mixed Precision (AMP) checks with YOLOv8n...\n",
            "\u001b[34m\u001b[1mAMP: \u001b[0mchecks passed ✅\n"
          ]
        },
        {
          "output_type": "stream",
          "name": "stderr",
          "text": [
            "\u001b[34m\u001b[1mtrain: \u001b[0mScanning /content/dataset/dataset/labels/train.cache... 72 images, 0 backgrounds, 0 corrupt: 100%|██████████| 72/72 [00:00<?, ?it/s]"
          ]
        },
        {
          "output_type": "stream",
          "name": "stdout",
          "text": [
            "\u001b[34m\u001b[1malbumentations: \u001b[0mBlur(p=0.01, blur_limit=(3, 7)), MedianBlur(p=0.01, blur_limit=(3, 7)), ToGray(p=0.01), CLAHE(p=0.01, clip_limit=(1, 4.0), tile_grid_size=(8, 8))\n"
          ]
        },
        {
          "output_type": "stream",
          "name": "stderr",
          "text": [
            "\n",
            "/usr/lib/python3.10/multiprocessing/popen_fork.py:66: RuntimeWarning: os.fork() was called. os.fork() is incompatible with multithreaded code, and JAX is multithreaded, so this will likely lead to a deadlock.\n",
            "  self.pid = os.fork()\n",
            "\u001b[34m\u001b[1mval: \u001b[0mScanning /content/dataset/dataset/labels/test.cache... 105 images, 0 backgrounds, 0 corrupt: 100%|██████████| 105/105 [00:00<?, ?it/s]\n"
          ]
        },
        {
          "output_type": "stream",
          "name": "stdout",
          "text": [
            "Plotting labels to runs/detect/train10/labels.jpg... \n",
            "\u001b[34m\u001b[1moptimizer:\u001b[0m 'optimizer=auto' found, ignoring 'lr0=0.01' and 'momentum=0.937' and determining best 'optimizer', 'lr0' and 'momentum' automatically... \n",
            "\u001b[34m\u001b[1moptimizer:\u001b[0m AdamW(lr=0.001429, momentum=0.9) with parameter groups 57 weight(decay=0.0), 64 weight(decay=0.001), 63 bias(decay=0.0)\n",
            "\u001b[34m\u001b[1mTensorBoard: \u001b[0mmodel graph visualization added ✅\n",
            "Image sizes 640 train, 640 val\n",
            "Using 2 dataloader workers\n",
            "Logging results to \u001b[1mruns/detect/train10\u001b[0m\n",
            "Starting training for 50 epochs...\n",
            "\n",
            "      Epoch    GPU_mem   box_loss   cls_loss   dfl_loss  Instances       Size\n"
          ]
        },
        {
          "output_type": "stream",
          "name": "stderr",
          "text": [
            "       1/50      2.46G      1.366      4.025      1.346        202        640: 100%|██████████| 5/5 [00:11<00:00,  2.38s/it]\n",
            "                 Class     Images  Instances      Box(P          R      mAP50  mAP50-95): 100%|██████████| 4/4 [00:07<00:00,  1.78s/it]"
          ]
        },
        {
          "output_type": "stream",
          "name": "stdout",
          "text": [
            "                   all        105       1315    0.00188     0.0399    0.00126   0.000584\n"
          ]
        },
        {
          "output_type": "stream",
          "name": "stderr",
          "text": [
            "\n"
          ]
        },
        {
          "output_type": "stream",
          "name": "stdout",
          "text": [
            "\n",
            "      Epoch    GPU_mem   box_loss   cls_loss   dfl_loss  Instances       Size\n"
          ]
        },
        {
          "output_type": "stream",
          "name": "stderr",
          "text": [
            "       2/50      2.32G      1.151      3.692      1.213        224        640: 100%|██████████| 5/5 [00:01<00:00,  4.09it/s]\n",
            "                 Class     Images  Instances      Box(P          R      mAP50  mAP50-95): 100%|██████████| 4/4 [00:02<00:00,  1.60it/s]"
          ]
        },
        {
          "output_type": "stream",
          "name": "stdout",
          "text": [
            "                   all        105       1315    0.00386     0.0845     0.0117    0.00613\n"
          ]
        },
        {
          "output_type": "stream",
          "name": "stderr",
          "text": [
            "\n"
          ]
        },
        {
          "output_type": "stream",
          "name": "stdout",
          "text": [
            "\n",
            "      Epoch    GPU_mem   box_loss   cls_loss   dfl_loss  Instances       Size\n"
          ]
        },
        {
          "output_type": "stream",
          "name": "stderr",
          "text": [
            "       3/50      2.44G      1.135      3.134      1.085        202        640: 100%|██████████| 5/5 [00:04<00:00,  1.21it/s]\n",
            "                 Class     Images  Instances      Box(P          R      mAP50  mAP50-95): 100%|██████████| 4/4 [00:16<00:00,  4.23s/it]"
          ]
        },
        {
          "output_type": "stream",
          "name": "stdout",
          "text": [
            "                   all        105       1315     0.0124      0.303      0.087     0.0484\n"
          ]
        },
        {
          "output_type": "stream",
          "name": "stderr",
          "text": [
            "\n"
          ]
        },
        {
          "output_type": "stream",
          "name": "stdout",
          "text": [
            "\n",
            "      Epoch    GPU_mem   box_loss   cls_loss   dfl_loss  Instances       Size\n"
          ]
        },
        {
          "output_type": "stream",
          "name": "stderr",
          "text": [
            "       4/50      2.47G      1.117       2.51      1.037        178        640: 100%|██████████| 5/5 [00:05<00:00,  1.07s/it]\n",
            "                 Class     Images  Instances      Box(P          R      mAP50  mAP50-95): 100%|██████████| 4/4 [00:09<00:00,  2.49s/it]"
          ]
        },
        {
          "output_type": "stream",
          "name": "stdout",
          "text": [
            "                   all        105       1315     0.0217      0.503       0.19      0.128\n"
          ]
        },
        {
          "output_type": "stream",
          "name": "stderr",
          "text": [
            "\n"
          ]
        },
        {
          "output_type": "stream",
          "name": "stdout",
          "text": [
            "\n",
            "      Epoch    GPU_mem   box_loss   cls_loss   dfl_loss  Instances       Size\n"
          ]
        },
        {
          "output_type": "stream",
          "name": "stderr",
          "text": [
            "       5/50      2.46G      1.141      2.251      1.035        117        640: 100%|██████████| 5/5 [00:02<00:00,  1.95it/s]\n",
            "                 Class     Images  Instances      Box(P          R      mAP50  mAP50-95): 100%|██████████| 4/4 [00:11<00:00,  2.89s/it]\n"
          ]
        },
        {
          "output_type": "stream",
          "name": "stdout",
          "text": [
            "                   all        105       1315     0.0337      0.805      0.317      0.207\n",
            "\n",
            "      Epoch    GPU_mem   box_loss   cls_loss   dfl_loss  Instances       Size\n"
          ]
        },
        {
          "output_type": "stream",
          "name": "stderr",
          "text": [
            "       6/50      2.38G      1.037      1.816     0.9971        139        640: 100%|██████████| 5/5 [00:01<00:00,  3.45it/s]\n",
            "                 Class     Images  Instances      Box(P          R      mAP50  mAP50-95): 100%|██████████| 4/4 [00:13<00:00,  3.50s/it]\n"
          ]
        },
        {
          "output_type": "stream",
          "name": "stdout",
          "text": [
            "                   all        105       1315     0.0328      0.771      0.371      0.244\n",
            "\n",
            "      Epoch    GPU_mem   box_loss   cls_loss   dfl_loss  Instances       Size\n"
          ]
        },
        {
          "output_type": "stream",
          "name": "stderr",
          "text": [
            "       7/50      2.38G     0.9779      1.544     0.9913        168        640: 100%|██████████| 5/5 [00:01<00:00,  3.29it/s]\n",
            "                 Class     Images  Instances      Box(P          R      mAP50  mAP50-95): 100%|██████████| 4/4 [00:10<00:00,  2.72s/it]"
          ]
        },
        {
          "output_type": "stream",
          "name": "stdout",
          "text": [
            "                   all        105       1315      0.509      0.155      0.313      0.225\n"
          ]
        },
        {
          "output_type": "stream",
          "name": "stderr",
          "text": [
            "\n"
          ]
        },
        {
          "output_type": "stream",
          "name": "stdout",
          "text": [
            "\n",
            "      Epoch    GPU_mem   box_loss   cls_loss   dfl_loss  Instances       Size\n"
          ]
        },
        {
          "output_type": "stream",
          "name": "stderr",
          "text": [
            "       8/50      2.33G     0.9661      1.422     0.9979        162        640: 100%|██████████| 5/5 [00:02<00:00,  1.78it/s]\n",
            "                 Class     Images  Instances      Box(P          R      mAP50  mAP50-95): 100%|██████████| 4/4 [00:09<00:00,  2.35s/it]\n"
          ]
        },
        {
          "output_type": "stream",
          "name": "stdout",
          "text": [
            "                   all        105       1315      0.577      0.203      0.347      0.252\n",
            "\n",
            "      Epoch    GPU_mem   box_loss   cls_loss   dfl_loss  Instances       Size\n"
          ]
        },
        {
          "output_type": "stream",
          "name": "stderr",
          "text": [
            "       9/50      2.56G      0.941      1.325     0.9911        217        640: 100%|██████████| 5/5 [00:02<00:00,  2.42it/s]\n",
            "                 Class     Images  Instances      Box(P          R      mAP50  mAP50-95): 100%|██████████| 4/4 [00:12<00:00,  3.04s/it]"
          ]
        },
        {
          "output_type": "stream",
          "name": "stdout",
          "text": [
            "                   all        105       1315      0.884      0.149      0.443      0.317\n"
          ]
        },
        {
          "output_type": "stream",
          "name": "stderr",
          "text": [
            "\n"
          ]
        },
        {
          "output_type": "stream",
          "name": "stdout",
          "text": [
            "\n",
            "      Epoch    GPU_mem   box_loss   cls_loss   dfl_loss  Instances       Size\n"
          ]
        },
        {
          "output_type": "stream",
          "name": "stderr",
          "text": [
            "      10/50      2.41G     0.8512      1.195     0.9627        205        640: 100%|██████████| 5/5 [00:01<00:00,  3.31it/s]\n",
            "                 Class     Images  Instances      Box(P          R      mAP50  mAP50-95): 100%|██████████| 4/4 [00:13<00:00,  3.32s/it]"
          ]
        },
        {
          "output_type": "stream",
          "name": "stdout",
          "text": [
            "                   all        105       1315      0.825       0.28      0.493      0.361\n"
          ]
        },
        {
          "output_type": "stream",
          "name": "stderr",
          "text": [
            "\n"
          ]
        },
        {
          "output_type": "stream",
          "name": "stdout",
          "text": [
            "\n",
            "      Epoch    GPU_mem   box_loss   cls_loss   dfl_loss  Instances       Size\n"
          ]
        },
        {
          "output_type": "stream",
          "name": "stderr",
          "text": [
            "      11/50      2.44G     0.8895      1.134      0.953        184        640: 100%|██████████| 5/5 [00:01<00:00,  3.13it/s]\n",
            "                 Class     Images  Instances      Box(P          R      mAP50  mAP50-95): 100%|██████████| 4/4 [00:09<00:00,  2.33s/it]"
          ]
        },
        {
          "output_type": "stream",
          "name": "stdout",
          "text": [
            "                   all        105       1315       0.76      0.419      0.559      0.409\n"
          ]
        },
        {
          "output_type": "stream",
          "name": "stderr",
          "text": [
            "\n"
          ]
        },
        {
          "output_type": "stream",
          "name": "stdout",
          "text": [
            "\n",
            "      Epoch    GPU_mem   box_loss   cls_loss   dfl_loss  Instances       Size\n"
          ]
        },
        {
          "output_type": "stream",
          "name": "stderr",
          "text": [
            "      12/50      2.54G     0.8717       1.08     0.9612        216        640: 100%|██████████| 5/5 [00:02<00:00,  1.79it/s]\n",
            "                 Class     Images  Instances      Box(P          R      mAP50  mAP50-95): 100%|██████████| 4/4 [00:10<00:00,  2.70s/it]"
          ]
        },
        {
          "output_type": "stream",
          "name": "stdout",
          "text": [
            "                   all        105       1315      0.695      0.465      0.572      0.411\n"
          ]
        },
        {
          "output_type": "stream",
          "name": "stderr",
          "text": [
            "\n"
          ]
        },
        {
          "output_type": "stream",
          "name": "stdout",
          "text": [
            "\n",
            "      Epoch    GPU_mem   box_loss   cls_loss   dfl_loss  Instances       Size\n"
          ]
        },
        {
          "output_type": "stream",
          "name": "stderr",
          "text": [
            "      13/50      2.53G     0.8311      1.024     0.9355        296        640: 100%|██████████| 5/5 [00:01<00:00,  3.50it/s]\n",
            "                 Class     Images  Instances      Box(P          R      mAP50  mAP50-95): 100%|██████████| 4/4 [00:13<00:00,  3.46s/it]\n"
          ]
        },
        {
          "output_type": "stream",
          "name": "stdout",
          "text": [
            "                   all        105       1315      0.676      0.495      0.581      0.427\n",
            "\n",
            "      Epoch    GPU_mem   box_loss   cls_loss   dfl_loss  Instances       Size\n"
          ]
        },
        {
          "output_type": "stream",
          "name": "stderr",
          "text": [
            "      14/50      2.47G      0.828      1.028     0.9424        150        640: 100%|██████████| 5/5 [00:01<00:00,  3.51it/s]\n",
            "                 Class     Images  Instances      Box(P          R      mAP50  mAP50-95): 100%|██████████| 4/4 [00:11<00:00,  2.84s/it]"
          ]
        },
        {
          "output_type": "stream",
          "name": "stdout",
          "text": [
            "                   all        105       1315      0.638      0.553      0.584      0.433\n"
          ]
        },
        {
          "output_type": "stream",
          "name": "stderr",
          "text": [
            "\n"
          ]
        },
        {
          "output_type": "stream",
          "name": "stdout",
          "text": [
            "\n",
            "      Epoch    GPU_mem   box_loss   cls_loss   dfl_loss  Instances       Size\n"
          ]
        },
        {
          "output_type": "stream",
          "name": "stderr",
          "text": [
            "      15/50      2.44G     0.7583     0.9611     0.9388        161        640: 100%|██████████| 5/5 [00:02<00:00,  1.95it/s]\n",
            "                 Class     Images  Instances      Box(P          R      mAP50  mAP50-95): 100%|██████████| 4/4 [00:08<00:00,  2.20s/it]\n"
          ]
        },
        {
          "output_type": "stream",
          "name": "stdout",
          "text": [
            "                   all        105       1315      0.564      0.551      0.502       0.36\n",
            "\n",
            "      Epoch    GPU_mem   box_loss   cls_loss   dfl_loss  Instances       Size\n"
          ]
        },
        {
          "output_type": "stream",
          "name": "stderr",
          "text": [
            "      16/50      2.54G     0.7765     0.9393     0.9364        135        640: 100%|██████████| 5/5 [00:02<00:00,  2.35it/s]\n",
            "                 Class     Images  Instances      Box(P          R      mAP50  mAP50-95): 100%|██████████| 4/4 [00:11<00:00,  2.98s/it]\n"
          ]
        },
        {
          "output_type": "stream",
          "name": "stdout",
          "text": [
            "                   all        105       1315      0.549      0.559      0.505      0.373\n",
            "\n",
            "      Epoch    GPU_mem   box_loss   cls_loss   dfl_loss  Instances       Size\n"
          ]
        },
        {
          "output_type": "stream",
          "name": "stderr",
          "text": [
            "      17/50      2.38G      0.797     0.9279     0.9366        186        640: 100%|██████████| 5/5 [00:01<00:00,  3.43it/s]\n",
            "                 Class     Images  Instances      Box(P          R      mAP50  mAP50-95): 100%|██████████| 4/4 [00:12<00:00,  3.25s/it]\n"
          ]
        },
        {
          "output_type": "stream",
          "name": "stdout",
          "text": [
            "                   all        105       1315      0.633      0.615      0.609      0.451\n",
            "\n",
            "      Epoch    GPU_mem   box_loss   cls_loss   dfl_loss  Instances       Size\n"
          ]
        },
        {
          "output_type": "stream",
          "name": "stderr",
          "text": [
            "      18/50      2.38G     0.7238      0.891     0.9253        159        640: 100%|██████████| 5/5 [00:01<00:00,  3.36it/s]\n",
            "                 Class     Images  Instances      Box(P          R      mAP50  mAP50-95): 100%|██████████| 4/4 [00:10<00:00,  2.66s/it]"
          ]
        },
        {
          "output_type": "stream",
          "name": "stdout",
          "text": [
            "                   all        105       1315      0.633      0.601      0.609      0.457\n"
          ]
        },
        {
          "output_type": "stream",
          "name": "stderr",
          "text": [
            "\n"
          ]
        },
        {
          "output_type": "stream",
          "name": "stdout",
          "text": [
            "\n",
            "      Epoch    GPU_mem   box_loss   cls_loss   dfl_loss  Instances       Size\n"
          ]
        },
        {
          "output_type": "stream",
          "name": "stderr",
          "text": [
            "      19/50      2.36G     0.7658     0.9319     0.9203        208        640: 100%|██████████| 5/5 [00:02<00:00,  1.89it/s]\n",
            "                 Class     Images  Instances      Box(P          R      mAP50  mAP50-95): 100%|██████████| 4/4 [00:13<00:00,  3.26s/it]"
          ]
        },
        {
          "output_type": "stream",
          "name": "stdout",
          "text": [
            "                   all        105       1315      0.632       0.61      0.591      0.452\n"
          ]
        },
        {
          "output_type": "stream",
          "name": "stderr",
          "text": [
            "\n"
          ]
        },
        {
          "output_type": "stream",
          "name": "stdout",
          "text": [
            "\n",
            "      Epoch    GPU_mem   box_loss   cls_loss   dfl_loss  Instances       Size\n"
          ]
        },
        {
          "output_type": "stream",
          "name": "stderr",
          "text": [
            "      20/50      2.58G     0.7726     0.9504      0.939        136        640: 100%|██████████| 5/5 [00:01<00:00,  2.87it/s]\n",
            "                 Class     Images  Instances      Box(P          R      mAP50  mAP50-95): 100%|██████████| 4/4 [00:13<00:00,  3.27s/it]\n"
          ]
        },
        {
          "output_type": "stream",
          "name": "stdout",
          "text": [
            "                   all        105       1315      0.725      0.686       0.71      0.541\n",
            "\n",
            "      Epoch    GPU_mem   box_loss   cls_loss   dfl_loss  Instances       Size\n"
          ]
        },
        {
          "output_type": "stream",
          "name": "stderr",
          "text": [
            "      21/50      2.48G     0.7541     0.8562     0.9397        147        640: 100%|██████████| 5/5 [00:01<00:00,  3.72it/s]\n",
            "                 Class     Images  Instances      Box(P          R      mAP50  mAP50-95): 100%|██████████| 4/4 [00:12<00:00,  3.01s/it]"
          ]
        },
        {
          "output_type": "stream",
          "name": "stdout",
          "text": [
            "                   all        105       1315      0.699      0.722      0.729      0.546\n"
          ]
        },
        {
          "output_type": "stream",
          "name": "stderr",
          "text": [
            "\n"
          ]
        },
        {
          "output_type": "stream",
          "name": "stdout",
          "text": [
            "\n",
            "      Epoch    GPU_mem   box_loss   cls_loss   dfl_loss  Instances       Size\n"
          ]
        },
        {
          "output_type": "stream",
          "name": "stderr",
          "text": [
            "      22/50      2.42G      0.762     0.8415     0.9151        287        640: 100%|██████████| 5/5 [00:01<00:00,  3.34it/s]\n",
            "                 Class     Images  Instances      Box(P          R      mAP50  mAP50-95): 100%|██████████| 4/4 [00:08<00:00,  2.25s/it]"
          ]
        },
        {
          "output_type": "stream",
          "name": "stdout",
          "text": [
            "                   all        105       1315      0.712      0.716      0.733      0.558\n"
          ]
        },
        {
          "output_type": "stream",
          "name": "stderr",
          "text": [
            "\n"
          ]
        },
        {
          "output_type": "stream",
          "name": "stdout",
          "text": [
            "\n",
            "      Epoch    GPU_mem   box_loss   cls_loss   dfl_loss  Instances       Size\n"
          ]
        },
        {
          "output_type": "stream",
          "name": "stderr",
          "text": [
            "      23/50      2.51G     0.7534     0.8392      0.917        204        640: 100%|██████████| 5/5 [00:02<00:00,  1.96it/s]\n",
            "                 Class     Images  Instances      Box(P          R      mAP50  mAP50-95): 100%|██████████| 4/4 [00:10<00:00,  2.73s/it]"
          ]
        },
        {
          "output_type": "stream",
          "name": "stdout",
          "text": [
            "                   all        105       1315      0.669      0.721       0.71      0.548\n"
          ]
        },
        {
          "output_type": "stream",
          "name": "stderr",
          "text": [
            "\n"
          ]
        },
        {
          "output_type": "stream",
          "name": "stdout",
          "text": [
            "\n",
            "      Epoch    GPU_mem   box_loss   cls_loss   dfl_loss  Instances       Size\n"
          ]
        },
        {
          "output_type": "stream",
          "name": "stderr",
          "text": [
            "      24/50      2.47G     0.7092     0.8082     0.9103        220        640: 100%|██████████| 5/5 [00:01<00:00,  3.52it/s]\n",
            "                 Class     Images  Instances      Box(P          R      mAP50  mAP50-95): 100%|██████████| 4/4 [00:13<00:00,  3.40s/it]"
          ]
        },
        {
          "output_type": "stream",
          "name": "stdout",
          "text": [
            "                   all        105       1315      0.726      0.707      0.741      0.575\n"
          ]
        },
        {
          "output_type": "stream",
          "name": "stderr",
          "text": [
            "\n"
          ]
        },
        {
          "output_type": "stream",
          "name": "stdout",
          "text": [
            "\n",
            "      Epoch    GPU_mem   box_loss   cls_loss   dfl_loss  Instances       Size\n"
          ]
        },
        {
          "output_type": "stream",
          "name": "stderr",
          "text": [
            "      25/50      2.42G     0.7067     0.8151     0.9222        159        640: 100%|██████████| 5/5 [00:01<00:00,  3.86it/s]\n",
            "                 Class     Images  Instances      Box(P          R      mAP50  mAP50-95): 100%|██████████| 4/4 [00:10<00:00,  2.68s/it]"
          ]
        },
        {
          "output_type": "stream",
          "name": "stdout",
          "text": [
            "                   all        105       1315      0.745      0.716      0.757      0.593\n"
          ]
        },
        {
          "output_type": "stream",
          "name": "stderr",
          "text": [
            "\n"
          ]
        },
        {
          "output_type": "stream",
          "name": "stdout",
          "text": [
            "\n",
            "      Epoch    GPU_mem   box_loss   cls_loss   dfl_loss  Instances       Size\n"
          ]
        },
        {
          "output_type": "stream",
          "name": "stderr",
          "text": [
            "      26/50      2.47G     0.6933     0.7812      0.909        205        640: 100%|██████████| 5/5 [00:02<00:00,  2.10it/s]\n",
            "                 Class     Images  Instances      Box(P          R      mAP50  mAP50-95): 100%|██████████| 4/4 [00:09<00:00,  2.25s/it]\n"
          ]
        },
        {
          "output_type": "stream",
          "name": "stdout",
          "text": [
            "                   all        105       1315      0.759      0.719      0.766      0.604\n",
            "\n",
            "      Epoch    GPU_mem   box_loss   cls_loss   dfl_loss  Instances       Size\n"
          ]
        },
        {
          "output_type": "stream",
          "name": "stderr",
          "text": [
            "      27/50      2.56G     0.6851     0.7705     0.8984        174        640: 100%|██████████| 5/5 [00:02<00:00,  2.14it/s]\n",
            "                 Class     Images  Instances      Box(P          R      mAP50  mAP50-95): 100%|██████████| 4/4 [00:11<00:00,  2.92s/it]\n"
          ]
        },
        {
          "output_type": "stream",
          "name": "stdout",
          "text": [
            "                   all        105       1315      0.776      0.722      0.775      0.609\n",
            "\n",
            "      Epoch    GPU_mem   box_loss   cls_loss   dfl_loss  Instances       Size\n"
          ]
        },
        {
          "output_type": "stream",
          "name": "stderr",
          "text": [
            "      28/50      2.38G      0.657     0.7412     0.8907        142        640: 100%|██████████| 5/5 [00:01<00:00,  3.39it/s]\n",
            "                 Class     Images  Instances      Box(P          R      mAP50  mAP50-95): 100%|██████████| 4/4 [00:13<00:00,  3.26s/it]"
          ]
        },
        {
          "output_type": "stream",
          "name": "stdout",
          "text": [
            "                   all        105       1315      0.777      0.708      0.766      0.599\n"
          ]
        },
        {
          "output_type": "stream",
          "name": "stderr",
          "text": [
            "\n"
          ]
        },
        {
          "output_type": "stream",
          "name": "stdout",
          "text": [
            "\n",
            "      Epoch    GPU_mem   box_loss   cls_loss   dfl_loss  Instances       Size\n"
          ]
        },
        {
          "output_type": "stream",
          "name": "stderr",
          "text": [
            "      29/50      2.52G     0.6766     0.7488     0.9012        114        640: 100%|██████████| 5/5 [00:01<00:00,  3.06it/s]\n",
            "                 Class     Images  Instances      Box(P          R      mAP50  mAP50-95): 100%|██████████| 4/4 [00:10<00:00,  2.60s/it]\n"
          ]
        },
        {
          "output_type": "stream",
          "name": "stdout",
          "text": [
            "                   all        105       1315      0.763      0.709      0.761      0.594\n",
            "\n",
            "      Epoch    GPU_mem   box_loss   cls_loss   dfl_loss  Instances       Size\n"
          ]
        },
        {
          "output_type": "stream",
          "name": "stderr",
          "text": [
            "      30/50      2.32G     0.6883     0.7434      0.898        208        640: 100%|██████████| 5/5 [00:02<00:00,  1.83it/s]\n",
            "                 Class     Images  Instances      Box(P          R      mAP50  mAP50-95): 100%|██████████| 4/4 [00:09<00:00,  2.45s/it]\n"
          ]
        },
        {
          "output_type": "stream",
          "name": "stdout",
          "text": [
            "                   all        105       1315      0.763      0.723      0.763      0.596\n",
            "\n",
            "      Epoch    GPU_mem   box_loss   cls_loss   dfl_loss  Instances       Size\n"
          ]
        },
        {
          "output_type": "stream",
          "name": "stderr",
          "text": [
            "      31/50      2.36G     0.6251     0.6968     0.8901        124        640: 100%|██████████| 5/5 [00:01<00:00,  2.99it/s]\n",
            "                 Class     Images  Instances      Box(P          R      mAP50  mAP50-95): 100%|██████████| 4/4 [00:13<00:00,  3.28s/it]\n"
          ]
        },
        {
          "output_type": "stream",
          "name": "stdout",
          "text": [
            "                   all        105       1315      0.774      0.713      0.759      0.591\n",
            "\n",
            "      Epoch    GPU_mem   box_loss   cls_loss   dfl_loss  Instances       Size\n"
          ]
        },
        {
          "output_type": "stream",
          "name": "stderr",
          "text": [
            "      32/50       2.4G     0.6388     0.7098      0.899        169        640: 100%|██████████| 5/5 [00:01<00:00,  3.58it/s]\n",
            "                 Class     Images  Instances      Box(P          R      mAP50  mAP50-95): 100%|██████████| 4/4 [00:12<00:00,  3.16s/it]"
          ]
        },
        {
          "output_type": "stream",
          "name": "stdout",
          "text": [
            "                   all        105       1315      0.789      0.716       0.76        0.6\n",
            "\u001b[34m\u001b[1mEarlyStopping: \u001b[0mTraining stopped early as no improvement observed in last 5 epochs. Best results observed at epoch 27, best model saved as best.pt.\n",
            "To update EarlyStopping(patience=5) pass a new patience value, i.e. `patience=300` or use `patience=0` to disable EarlyStopping.\n"
          ]
        },
        {
          "output_type": "stream",
          "name": "stderr",
          "text": [
            "\n"
          ]
        },
        {
          "output_type": "stream",
          "name": "stdout",
          "text": [
            "\n",
            "32 epochs completed in 0.150 hours.\n",
            "Optimizer stripped from runs/detect/train10/weights/last.pt, 6.2MB\n",
            "Optimizer stripped from runs/detect/train10/weights/best.pt, 6.2MB\n",
            "\n",
            "Validating runs/detect/train10/weights/best.pt...\n",
            "Ultralytics YOLOv8.2.84 🚀 Python-3.10.12 torch-2.4.0+cu121 CUDA:0 (Tesla T4, 15102MiB)\n",
            "Model summary (fused): 168 layers, 3,006,233 parameters, 0 gradients, 8.1 GFLOPs\n"
          ]
        },
        {
          "output_type": "stream",
          "name": "stderr",
          "text": [
            "                 Class     Images  Instances      Box(P          R      mAP50  mAP50-95): 100%|██████████| 4/4 [00:19<00:00,  4.75s/it]\n"
          ]
        },
        {
          "output_type": "stream",
          "name": "stdout",
          "text": [
            "                   all        105       1315      0.753      0.713       0.76       0.59\n",
            "               class_0         95        569      0.739      0.707      0.756      0.543\n",
            "               class_1         77        190      0.652      0.592      0.599      0.473\n",
            "               class_2        105        556      0.868      0.841      0.924      0.754\n",
            "Speed: 0.4ms preprocess, 25.0ms inference, 0.0ms loss, 6.4ms postprocess per image\n",
            "Results saved to \u001b[1mruns/detect/train10\u001b[0m\n"
          ]
        }
      ]
    },
    {
      "cell_type": "code",
      "source": [
        "import matplotlib.pyplot as plt\n",
        "import pandas as pd\n",
        "\n",
        "# Assuming results are saved in a directory like 'runs/train/exp'\n",
        "results_file = '/content/runs/detect/train10/results.csv'\n",
        "\n",
        "\n",
        "# Load the results from the CSV file\n",
        "results_df = pd.read_csv(results_file)\n",
        "print(results_df.columns.tolist()) #Display the column names\n",
        "# Trimmed column names for easier access\n",
        "train_loss = results_df['         train/box_loss']\n",
        "val_loss = results_df['           val/box_loss']\n",
        "\n",
        "# Plotting the losses\n",
        "plt.figure(figsize=(10, 5))\n",
        "plt.plot(train_loss, label='Training Loss')\n",
        "plt.plot(val_loss, label='Validation Loss')\n",
        "plt.xlabel('Epochs')\n",
        "plt.ylabel('Loss')\n",
        "plt.title('Training and Validation Loss Curves')\n",
        "plt.legend()\n",
        "plt.show()\n",
        "\n"
      ],
      "metadata": {
        "colab": {
          "base_uri": "https://localhost:8080/",
          "height": 524
        },
        "id": "uYR63cF8xdbl",
        "outputId": "78cfdd7c-2a31-40b8-b24b-0dd6f4bdf022"
      },
      "execution_count": 48,
      "outputs": [
        {
          "output_type": "stream",
          "name": "stdout",
          "text": [
            "['                  epoch', '         train/box_loss', '         train/cls_loss', '         train/dfl_loss', '   metrics/precision(B)', '      metrics/recall(B)', '       metrics/mAP50(B)', '    metrics/mAP50-95(B)', '           val/box_loss', '           val/cls_loss', '           val/dfl_loss', '                 lr/pg0', '                 lr/pg1', '                 lr/pg2']\n"
          ]
        },
        {
          "output_type": "display_data",
          "data": {
            "text/plain": [
              "<Figure size 1000x500 with 1 Axes>"
            ],
            "image/png": "[encoded data removed]"
          },
          "metadata": {}
        }
      ]
    }
  ]
}